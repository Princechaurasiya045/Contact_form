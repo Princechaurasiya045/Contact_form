{
  "cells": [
    {
      "cell_type": "markdown",
      "metadata": {
        "id": "view-in-github",
        "colab_type": "text"
      },
      "source": [
        "<a href=\"https://colab.research.google.com/github/Princechaurasiya045/Contact_form/blob/main/Student_Profile_Analyzer_Project_.ipynb\" target=\"_parent\"><img src=\"https://colab.research.google.com/assets/colab-badge.svg\" alt=\"Open In Colab\"/></a>"
      ]
    },
    {
      "cell_type": "code",
      "execution_count": 1,
      "metadata": {
        "colab": {
          "base_uri": "https://localhost:8080/"
        },
        "id": "1_z8ccLQYzFh",
        "outputId": "1a5c0b55-41e5-4c1c-9171-4b44de79eb68"
      },
      "outputs": [
        {
          "output_type": "stream",
          "name": "stdout",
          "text": [
            "\u001b[?25l   \u001b[90m━━━━━━━━━━━━━━━━━━━━━━━━━━━━━━━━━━━━━━━━\u001b[0m \u001b[32m0.0/47.8 kB\u001b[0m \u001b[31m?\u001b[0m eta \u001b[36m-:--:--\u001b[0m\r\u001b[2K   \u001b[90m━━━━━━━━━━━━━━━━━━━━━━━━━━━━━━━━━━━━━━━━\u001b[0m \u001b[32m47.8/47.8 kB\u001b[0m \u001b[31m3.7 MB/s\u001b[0m eta \u001b[36m0:00:00\u001b[0m\n",
            "\u001b[2K   \u001b[90m━━━━━━━━━━━━━━━━━━━━━━━━━━━━━━━━━━━━━━━━\u001b[0m \u001b[32m2.5/2.5 MB\u001b[0m \u001b[31m32.9 MB/s\u001b[0m eta \u001b[36m0:00:00\u001b[0m\n",
            "\u001b[2K   \u001b[90m━━━━━━━━━━━━━━━━━━━━━━━━━━━━━━━━━━━━━━━━\u001b[0m \u001b[32m31.3/31.3 MB\u001b[0m \u001b[31m42.0 MB/s\u001b[0m eta \u001b[36m0:00:00\u001b[0m\n",
            "\u001b[2K   \u001b[90m━━━━━━━━━━━━━━━━━━━━━━━━━━━━━━━━━━━━━━━━\u001b[0m \u001b[32m309.7/309.7 kB\u001b[0m \u001b[31m17.8 MB/s\u001b[0m eta \u001b[36m0:00:00\u001b[0m\n",
            "\u001b[2K   \u001b[90m━━━━━━━━━━━━━━━━━━━━━━━━━━━━━━━━━━━━━━━━\u001b[0m \u001b[32m1.4/1.4 MB\u001b[0m \u001b[31m37.1 MB/s\u001b[0m eta \u001b[36m0:00:00\u001b[0m\n",
            "\u001b[2K   \u001b[90m━━━━━━━━━━━━━━━━━━━━━━━━━━━━━━━━━━━━━━━━\u001b[0m \u001b[32m45.2/45.2 kB\u001b[0m \u001b[31m3.7 MB/s\u001b[0m eta \u001b[36m0:00:00\u001b[0m\n",
            "\u001b[2K   \u001b[90m━━━━━━━━━━━━━━━━━━━━━━━━━━━━━━━━━━━━━━━━\u001b[0m \u001b[32m363.4/363.4 MB\u001b[0m \u001b[31m5.1 MB/s\u001b[0m eta \u001b[36m0:00:00\u001b[0m\n",
            "\u001b[2K   \u001b[90m━━━━━━━━━━━━━━━━━━━━━━━━━━━━━━━━━━━━━━━━\u001b[0m \u001b[32m13.8/13.8 MB\u001b[0m \u001b[31m79.9 MB/s\u001b[0m eta \u001b[36m0:00:00\u001b[0m\n",
            "\u001b[2K   \u001b[90m━━━━━━━━━━━━━━━━━━━━━━━━━━━━━━━━━━━━━━━━\u001b[0m \u001b[32m24.6/24.6 MB\u001b[0m \u001b[31m60.5 MB/s\u001b[0m eta \u001b[36m0:00:00\u001b[0m\n",
            "\u001b[2K   \u001b[90m━━━━━━━━━━━━━━━━━━━━━━━━━━━━━━━━━━━━━━━━\u001b[0m \u001b[32m883.7/883.7 kB\u001b[0m \u001b[31m50.3 MB/s\u001b[0m eta \u001b[36m0:00:00\u001b[0m\n",
            "\u001b[2K   \u001b[90m━━━━━━━━━━━━━━━━━━━━━━━━━━━━━━━━━━━━━━━━\u001b[0m \u001b[32m664.8/664.8 MB\u001b[0m \u001b[31m2.8 MB/s\u001b[0m eta \u001b[36m0:00:00\u001b[0m\n",
            "\u001b[2K   \u001b[90m━━━━━━━━━━━━━━━━━━━━━━━━━━━━━━━━━━━━━━━━\u001b[0m \u001b[32m211.5/211.5 MB\u001b[0m \u001b[31m5.4 MB/s\u001b[0m eta \u001b[36m0:00:00\u001b[0m\n",
            "\u001b[2K   \u001b[90m━━━━━━━━━━━━━━━━━━━━━━━━━━━━━━━━━━━━━━━━\u001b[0m \u001b[32m56.3/56.3 MB\u001b[0m \u001b[31m12.6 MB/s\u001b[0m eta \u001b[36m0:00:00\u001b[0m\n",
            "\u001b[2K   \u001b[90m━━━━━━━━━━━━━━━━━━━━━━━━━━━━━━━━━━━━━━━━\u001b[0m \u001b[32m127.9/127.9 MB\u001b[0m \u001b[31m7.6 MB/s\u001b[0m eta \u001b[36m0:00:00\u001b[0m\n",
            "\u001b[2K   \u001b[90m━━━━━━━━━━━━━━━━━━━━━━━━━━━━━━━━━━━━━━━━\u001b[0m \u001b[32m207.5/207.5 MB\u001b[0m \u001b[31m5.4 MB/s\u001b[0m eta \u001b[36m0:00:00\u001b[0m\n",
            "\u001b[2K   \u001b[90m━━━━━━━━━━━━━━━━━━━━━━━━━━━━━━━━━━━━━━━━\u001b[0m \u001b[32m21.1/21.1 MB\u001b[0m \u001b[31m63.1 MB/s\u001b[0m eta \u001b[36m0:00:00\u001b[0m\n",
            "\u001b[2K   \u001b[90m━━━━━━━━━━━━━━━━━━━━━━━━━━━━━━━━━━━━━━━━\u001b[0m \u001b[32m50.9/50.9 kB\u001b[0m \u001b[31m4.5 MB/s\u001b[0m eta \u001b[36m0:00:00\u001b[0m\n",
            "\u001b[?25h\u001b[31mERROR: pip's dependency resolver does not currently take into account all the packages that are installed. This behaviour is the source of the following dependency conflicts.\n",
            "google-generativeai 0.8.5 requires google-ai-generativelanguage==0.6.15, but you have google-ai-generativelanguage 0.6.18 which is incompatible.\u001b[0m\u001b[31m\n",
            "\u001b[0mCollecting fpdf\n",
            "  Downloading fpdf-1.7.2.tar.gz (39 kB)\n",
            "  Preparing metadata (setup.py) ... \u001b[?25l\u001b[?25hdone\n",
            "Building wheels for collected packages: fpdf\n",
            "  Building wheel for fpdf (setup.py) ... \u001b[?25l\u001b[?25hdone\n",
            "  Created wheel for fpdf: filename=fpdf-1.7.2-py2.py3-none-any.whl size=40704 sha256=26bf029e098a0d61cf5995200fb5d7eff09b5530681f7defa5b03f554f2c4c40\n",
            "  Stored in directory: /root/.cache/pip/wheels/65/4f/66/bbda9866da446a72e206d6484cd97381cbc7859a7068541c36\n",
            "Successfully built fpdf\n",
            "Installing collected packages: fpdf\n",
            "Successfully installed fpdf-1.7.2\n"
          ]
        }
      ],
      "source": [
        "# Step 1: Install required libraries\n",
        "!pip install -q langchain langchain-google-genai langchain-community faiss-cpu pypdf sentence-transformers python-dotenv\n",
        "# Install the fpdf library\n",
        "!pip install fpdf"
      ]
    },
    {
      "cell_type": "code",
      "execution_count": 2,
      "metadata": {
        "id": "LCld7iFMFazZ"
      },
      "outputs": [],
      "source": [
        "import os\n",
        "from google.colab import files, userdata\n",
        "from langchain_google_genai import ChatGoogleGenerativeAI, GoogleGenerativeAIEmbeddings\n",
        "from langchain.document_loaders import PyPDFLoader\n",
        "from langchain.text_splitter import RecursiveCharacterTextSplitter\n",
        "from langchain.vectorstores import FAISS\n",
        "from langchain_core.prompts import ChatPromptTemplate\n",
        "from langchain_core.runnables import RunnablePassthrough\n",
        "from langchain_core.output_parsers import StrOutputParser\n",
        "from datetime import datetime\n",
        "import gradio as gr # Import gradio library"
      ]
    },
    {
      "cell_type": "code",
      "execution_count": 3,
      "metadata": {
        "id": "5nBCJwhzFcCJ"
      },
      "outputs": [],
      "source": [
        "# Step 3: Set up Google Gemini API key using Colab Secrets\n",
        "try:\n",
        "    GOOGLE_API_KEY = userdata.get('GOOGLE_API_KEY')\n",
        "    os.environ[\"GOOGLE_API_KEY\"] = GOOGLE_API_KEY\n",
        "except:\n",
        "    print(\"Error: GOOGLE_API_KEY not found in Colab Secrets.\")\n",
        "    print(\"1. Go to the 'Secrets' tab in the left sidebar (key icon).\")\n",
        "    print(\"2. Add a new secret with name 'GOOGLE_API_KEY' and your Gemini API key as the value.\")\n",
        "    print(\"3. Get your API key from https://ai.google.dev/gemini-api/docs/api-key\")\n",
        "    raise Exception(\"GOOGLE_API_KEY not found\")"
      ]
    },
    {
      "cell_type": "code",
      "execution_count": 4,
      "metadata": {
        "id": "9VgfV-ZZFd9J"
      },
      "outputs": [],
      "source": [
        "# Step 4: Initialize the Gemini model and embeddings\n",
        "llm = ChatGoogleGenerativeAI(model=\"gemini-2.0-flash\", google_api_key=GOOGLE_API_KEY)\n",
        "embeddings = GoogleGenerativeAIEmbeddings(model=\"models/embedding-001\")"
      ]
    },
    {
      "cell_type": "code",
      "execution_count": 5,
      "metadata": {
        "colab": {
          "base_uri": "https://localhost:8080/",
          "height": 90
        },
        "id": "FXHgrsQWFfDo",
        "outputId": "9a85a7bf-1dbb-49d4-c8a8-412b5e67869b"
      },
      "outputs": [
        {
          "output_type": "stream",
          "name": "stdout",
          "text": [
            "Please upload the student profile PDF file:\n"
          ]
        },
        {
          "output_type": "display_data",
          "data": {
            "text/plain": [
              "<IPython.core.display.HTML object>"
            ],
            "text/html": [
              "\n",
              "     <input type=\"file\" id=\"files-968ce3f0-7f5d-4d5c-8a7f-4e5995351647\" name=\"files[]\" multiple disabled\n",
              "        style=\"border:none\" />\n",
              "     <output id=\"result-968ce3f0-7f5d-4d5c-8a7f-4e5995351647\">\n",
              "      Upload widget is only available when the cell has been executed in the\n",
              "      current browser session. Please rerun this cell to enable.\n",
              "      </output>\n",
              "      <script>// Copyright 2017 Google LLC\n",
              "//\n",
              "// Licensed under the Apache License, Version 2.0 (the \"License\");\n",
              "// you may not use this file except in compliance with the License.\n",
              "// You may obtain a copy of the License at\n",
              "//\n",
              "//      http://www.apache.org/licenses/LICENSE-2.0\n",
              "//\n",
              "// Unless required by applicable law or agreed to in writing, software\n",
              "// distributed under the License is distributed on an \"AS IS\" BASIS,\n",
              "// WITHOUT WARRANTIES OR CONDITIONS OF ANY KIND, either express or implied.\n",
              "// See the License for the specific language governing permissions and\n",
              "// limitations under the License.\n",
              "\n",
              "/**\n",
              " * @fileoverview Helpers for google.colab Python module.\n",
              " */\n",
              "(function(scope) {\n",
              "function span(text, styleAttributes = {}) {\n",
              "  const element = document.createElement('span');\n",
              "  element.textContent = text;\n",
              "  for (const key of Object.keys(styleAttributes)) {\n",
              "    element.style[key] = styleAttributes[key];\n",
              "  }\n",
              "  return element;\n",
              "}\n",
              "\n",
              "// Max number of bytes which will be uploaded at a time.\n",
              "const MAX_PAYLOAD_SIZE = 100 * 1024;\n",
              "\n",
              "function _uploadFiles(inputId, outputId) {\n",
              "  const steps = uploadFilesStep(inputId, outputId);\n",
              "  const outputElement = document.getElementById(outputId);\n",
              "  // Cache steps on the outputElement to make it available for the next call\n",
              "  // to uploadFilesContinue from Python.\n",
              "  outputElement.steps = steps;\n",
              "\n",
              "  return _uploadFilesContinue(outputId);\n",
              "}\n",
              "\n",
              "// This is roughly an async generator (not supported in the browser yet),\n",
              "// where there are multiple asynchronous steps and the Python side is going\n",
              "// to poll for completion of each step.\n",
              "// This uses a Promise to block the python side on completion of each step,\n",
              "// then passes the result of the previous step as the input to the next step.\n",
              "function _uploadFilesContinue(outputId) {\n",
              "  const outputElement = document.getElementById(outputId);\n",
              "  const steps = outputElement.steps;\n",
              "\n",
              "  const next = steps.next(outputElement.lastPromiseValue);\n",
              "  return Promise.resolve(next.value.promise).then((value) => {\n",
              "    // Cache the last promise value to make it available to the next\n",
              "    // step of the generator.\n",
              "    outputElement.lastPromiseValue = value;\n",
              "    return next.value.response;\n",
              "  });\n",
              "}\n",
              "\n",
              "/**\n",
              " * Generator function which is called between each async step of the upload\n",
              " * process.\n",
              " * @param {string} inputId Element ID of the input file picker element.\n",
              " * @param {string} outputId Element ID of the output display.\n",
              " * @return {!Iterable<!Object>} Iterable of next steps.\n",
              " */\n",
              "function* uploadFilesStep(inputId, outputId) {\n",
              "  const inputElement = document.getElementById(inputId);\n",
              "  inputElement.disabled = false;\n",
              "\n",
              "  const outputElement = document.getElementById(outputId);\n",
              "  outputElement.innerHTML = '';\n",
              "\n",
              "  const pickedPromise = new Promise((resolve) => {\n",
              "    inputElement.addEventListener('change', (e) => {\n",
              "      resolve(e.target.files);\n",
              "    });\n",
              "  });\n",
              "\n",
              "  const cancel = document.createElement('button');\n",
              "  inputElement.parentElement.appendChild(cancel);\n",
              "  cancel.textContent = 'Cancel upload';\n",
              "  const cancelPromise = new Promise((resolve) => {\n",
              "    cancel.onclick = () => {\n",
              "      resolve(null);\n",
              "    };\n",
              "  });\n",
              "\n",
              "  // Wait for the user to pick the files.\n",
              "  const files = yield {\n",
              "    promise: Promise.race([pickedPromise, cancelPromise]),\n",
              "    response: {\n",
              "      action: 'starting',\n",
              "    }\n",
              "  };\n",
              "\n",
              "  cancel.remove();\n",
              "\n",
              "  // Disable the input element since further picks are not allowed.\n",
              "  inputElement.disabled = true;\n",
              "\n",
              "  if (!files) {\n",
              "    return {\n",
              "      response: {\n",
              "        action: 'complete',\n",
              "      }\n",
              "    };\n",
              "  }\n",
              "\n",
              "  for (const file of files) {\n",
              "    const li = document.createElement('li');\n",
              "    li.append(span(file.name, {fontWeight: 'bold'}));\n",
              "    li.append(span(\n",
              "        `(${file.type || 'n/a'}) - ${file.size} bytes, ` +\n",
              "        `last modified: ${\n",
              "            file.lastModifiedDate ? file.lastModifiedDate.toLocaleDateString() :\n",
              "                                    'n/a'} - `));\n",
              "    const percent = span('0% done');\n",
              "    li.appendChild(percent);\n",
              "\n",
              "    outputElement.appendChild(li);\n",
              "\n",
              "    const fileDataPromise = new Promise((resolve) => {\n",
              "      const reader = new FileReader();\n",
              "      reader.onload = (e) => {\n",
              "        resolve(e.target.result);\n",
              "      };\n",
              "      reader.readAsArrayBuffer(file);\n",
              "    });\n",
              "    // Wait for the data to be ready.\n",
              "    let fileData = yield {\n",
              "      promise: fileDataPromise,\n",
              "      response: {\n",
              "        action: 'continue',\n",
              "      }\n",
              "    };\n",
              "\n",
              "    // Use a chunked sending to avoid message size limits. See b/62115660.\n",
              "    let position = 0;\n",
              "    do {\n",
              "      const length = Math.min(fileData.byteLength - position, MAX_PAYLOAD_SIZE);\n",
              "      const chunk = new Uint8Array(fileData, position, length);\n",
              "      position += length;\n",
              "\n",
              "      const base64 = btoa(String.fromCharCode.apply(null, chunk));\n",
              "      yield {\n",
              "        response: {\n",
              "          action: 'append',\n",
              "          file: file.name,\n",
              "          data: base64,\n",
              "        },\n",
              "      };\n",
              "\n",
              "      let percentDone = fileData.byteLength === 0 ?\n",
              "          100 :\n",
              "          Math.round((position / fileData.byteLength) * 100);\n",
              "      percent.textContent = `${percentDone}% done`;\n",
              "\n",
              "    } while (position < fileData.byteLength);\n",
              "  }\n",
              "\n",
              "  // All done.\n",
              "  yield {\n",
              "    response: {\n",
              "      action: 'complete',\n",
              "    }\n",
              "  };\n",
              "}\n",
              "\n",
              "scope.google = scope.google || {};\n",
              "scope.google.colab = scope.google.colab || {};\n",
              "scope.google.colab._files = {\n",
              "  _uploadFiles,\n",
              "  _uploadFilesContinue,\n",
              "};\n",
              "})(self);\n",
              "</script> "
            ]
          },
          "metadata": {}
        },
        {
          "output_type": "stream",
          "name": "stdout",
          "text": [
            "Saving Student_Profiles.pdf to Student_Profiles.pdf\n"
          ]
        }
      ],
      "source": [
        "# Step 5: Upload the student profile PDF\n",
        "print(\"Please upload the student profile PDF file:\")\n",
        "uploaded = files.upload()\n",
        "pdf_file = list(uploaded.keys())[0]"
      ]
    },
    {
      "cell_type": "code",
      "execution_count": 6,
      "metadata": {
        "id": "zdTGHa1sFgt5"
      },
      "outputs": [],
      "source": [
        "# Step 6: Load and process the PDF\n",
        "loader = PyPDFLoader(pdf_file)\n",
        "documents = loader.load()"
      ]
    },
    {
      "cell_type": "code",
      "execution_count": 7,
      "metadata": {
        "id": "PBvypC0nFhzo",
        "colab": {
          "base_uri": "https://localhost:8080/"
        },
        "outputId": "b7a24690-4693-4a0c-e76e-88802f5e01bc"
      },
      "outputs": [
        {
          "output_type": "stream",
          "name": "stdout",
          "text": [
            "Number of text chunks: 22\n"
          ]
        }
      ],
      "source": [
        "# Step 7: Split documents into chunks\n",
        "text_splitter = RecursiveCharacterTextSplitter(chunk_size=1000, chunk_overlap=200)\n",
        "texts = text_splitter.split_documents(documents)\n",
        "print(f\"Number of text chunks: {len(texts)}\")\n",
        "if not texts:\n",
        "    print(\"Error: Text splitting resulted in an empty list of chunks. Please check the uploaded PDF file.\")"
      ]
    },
    {
      "cell_type": "code",
      "execution_count": 8,
      "metadata": {
        "id": "gdb9YozOFjCi"
      },
      "outputs": [],
      "source": [
        "# Step 8: Create FAISS vector store\n",
        "# Extract text content from documents before creating embeddings\n",
        "texts_content = [doc.page_content for doc in texts]\n",
        "vectorstore = FAISS.from_texts(texts_content, embeddings)"
      ]
    },
    {
      "cell_type": "code",
      "execution_count": 9,
      "metadata": {
        "id": "piPY9H8TFkIQ"
      },
      "outputs": [],
      "source": [
        "# Step 9: Set up the retriever\n",
        "retriever = vectorstore.as_retriever(search_type=\"similarity\", search_kwargs={\"k\": 3})"
      ]
    },
    {
      "cell_type": "code",
      "execution_count": 10,
      "metadata": {
        "id": "Zs-hLcsxFllA"
      },
      "outputs": [],
      "source": [
        "# Step 10: Define the prompt template for cover letter generation\n",
        "prompt_template = \"\"\"\n",
        "You are a professional career advisor. Based on the context extracted from the student's profile and the details below, generate a professional, personalized cover letter.\n",
        "\n",
        "Extract student address, email, and other details from the context.\n",
        "\n",
        "Inputs:\n",
        "- Student Name: {student_name}\n",
        "- Company Name: {company_name}\n",
        "- Company Address: {company_address}\n",
        "- Position: {position}\n",
        "- Date: {current_date}\n",
        "\n",
        "Context from student profile:\n",
        "{context}\n",
        "\n",
        "Format the cover letter formally with this structure:\n",
        "\n",
        "{student_name}\n",
        "[Student Address from profile]\n",
        "[City, State, ZIP Code from profile]\n",
        "[Email Address from profile]\n",
        "{current_date}\n",
        "\n",
        "Hiring Manager\n",
        "{company_name}\n",
        "{company_address}\n",
        "\n",
        "Dear Hiring Manager,\n",
        "\n",
        "[Personalized body based on context and position]\n",
        "\n",
        "Sincerely,\n",
        "{student_name}\n",
        "\"\"\"\n",
        "prompt = ChatPromptTemplate.from_template(prompt_template)"
      ]
    },
    {
      "cell_type": "code",
      "execution_count": 11,
      "metadata": {
        "id": "68c8DgYiFnNZ"
      },
      "outputs": [],
      "source": [
        "# Step 11: Define a function to format retrieved documents\n",
        "def format_docs(docs):\n",
        "    return \"\\n\\n\".join(doc.page_content for doc in docs)"
      ]
    },
    {
      "cell_type": "code",
      "execution_count": 12,
      "metadata": {
        "id": "LpXW05SFFoPx"
      },
      "outputs": [],
      "source": [
        "# Step 12: Set up the RAG chain using LCEL\n",
        "rag_chain = (\n",
        "    {\n",
        "        \"context\": (lambda x: x[\"student_name\"]) | retriever | format_docs, # Extract student name, retrieve context, and format documents\n",
        "        \"student_name\": (lambda x: x[\"student_name\"]), # Pass student name directly\n",
        "        \"company_name\": (lambda x: x[\"company_name\"]), # Pass company name directly\n",
        "        \"company_address\": (lambda x: x[\"company_address\"]), # Pass company address directly\n",
        "        \"position\": (lambda x: x[\"position\"]), # Pass position directly\n",
        "        \"current_date\": (lambda x: x[\"current_date\"]) # Pass current date directly\n",
        "    }\n",
        "    | prompt\n",
        "    | llm\n",
        "    | StrOutputParser()\n",
        ")"
      ]
    },
    {
      "cell_type": "code",
      "execution_count": 13,
      "metadata": {
        "colab": {
          "base_uri": "https://localhost:8080/"
        },
        "id": "WCuxG7g4Fpph",
        "outputId": "de783231-f078-457a-f3cc-8584b35c1a03"
      },
      "outputs": [
        {
          "output_type": "stream",
          "name": "stdout",
          "text": [
            "Enter student name: Allison HIll\n",
            "Enter company name: Google\n",
            "Enter company address: California\n",
            "Enter position: Data Analyst\n",
            "\n",
            "Generated Cover Letter:\n",
            "\n",
            "```\n",
            "Allison Hill\n",
            "65423 Garcia Light,\n",
            "West Melanieview, AZ 96148\n",
            "jillrhodes@miller.com\n",
            "July 15, 2025\n",
            "\n",
            "Hiring Manager\n",
            "Google\n",
            "California\n",
            "\n",
            "Dear Hiring Manager,\n",
            "\n",
            "I am writing to express my enthusiastic interest in the Data Analyst position at Google. As a recent B.Tech graduate in Civil Engineering from Herrera-Dudley, I possess a strong analytical foundation coupled with a passion for leveraging data to drive informed decision-making. While my academic background may seem unconventional, I have proactively developed a robust skillset in data analysis through focused training in Cloud Computing, Python, and Machine Learning.\n",
            "\n",
            "My coursework and personal projects have provided me with hands-on experience in applying these skills to solve complex problems. I am particularly drawn to Google's innovative approach to data and its commitment to using data-driven insights to improve lives globally. My interests in Robotics and Open Source align well with Google's culture of innovation and collaboration, and I am confident that I can contribute meaningfully to your team.\n",
            "\n",
            "Although my CGPA is 7.35, I am eager to learn and contribute to Google's success. I am a quick learner, highly adaptable, and possess a strong work ethic. I am confident that my analytical abilities and technical skills make me a strong candidate for this role.\n",
            "\n",
            "Thank you for your time and consideration. I have attached my resume for your review and welcome the opportunity to discuss my qualifications further in an interview.\n",
            "\n",
            "Sincerely,\n",
            "Allison Hill\n",
            "```\n"
          ]
        }
      ],
      "source": [
        "# User inputs company info\n",
        "student_name = input(\"Enter student name: \") # Add input for student name\n",
        "company_name = input(\"Enter company name: \")\n",
        "company_address = input(\"Enter company address: \")\n",
        "position = input(\"Enter position: \")\n",
        "\n",
        "# Current date\n",
        "current_date = datetime.now().strftime(\"%B %d, %Y\")\n",
        "\n",
        "# Call the RAG chain\n",
        "input_data = {\n",
        "    \"student_name\": student_name, # Pass student name directly\n",
        "    \"company_name\": company_name,\n",
        "    \"company_address\": company_address,\n",
        "    \"position\": position,\n",
        "    \"current_date\": current_date\n",
        "}\n",
        "\n",
        "response = rag_chain.invoke(input_data)\n",
        "print(\"\\nGenerated Cover Letter:\\n\")\n",
        "print(response)"
      ]
    },
    {
      "cell_type": "code",
      "execution_count": 14,
      "metadata": {
        "colab": {
          "base_uri": "https://localhost:8080/"
        },
        "id": "ImRgtQrbFrBi",
        "outputId": "2279d5a2-eb3e-46f1-82d4-6025437cdaec"
      },
      "outputs": [
        {
          "output_type": "stream",
          "name": "stdout",
          "text": [
            "\n",
            "Generated Cover Letter:\n",
            "\n",
            "```\n",
            "Allison Hill\n",
            "65423 Garcia Light,\n",
            "West Melanieview, AZ 96148\n",
            "jillrhodes@miller.com\n",
            "July 15, 2025\n",
            "\n",
            "Hiring Manager\n",
            "Google\n",
            "California\n",
            "\n",
            "Dear Hiring Manager,\n",
            "\n",
            "I am writing to express my enthusiastic interest in the Data Analyst position at Google. As a recent B.Tech graduate in Civil Engineering from Herrera-Dudley, I possess a strong analytical foundation coupled with a passion for leveraging data to drive informed decision-making. While my academic background may seem unconventional, I have proactively developed a robust skillset in data analysis through focused training in Cloud Computing, Python, and Machine Learning.\n",
            "\n",
            "My coursework and personal projects have provided me with hands-on experience in applying these skills to solve complex problems. I am particularly drawn to Google's innovative approach to data and its commitment to using data-driven insights to improve lives globally. My interests in Robotics and Open Source align well with Google's culture of innovation and collaboration, and I am confident that I can contribute meaningfully to your team.\n",
            "\n",
            "Although my CGPA is 7.35, I am eager to learn and contribute to Google's success. I am a quick learner, highly adaptable, and possess a strong work ethic. I am confident that my analytical abilities and technical skills make me a strong candidate for this role.\n",
            "\n",
            "Thank you for your time and consideration. I have attached my resume for your review and welcome the opportunity to discuss my qualifications further in an interview.\n",
            "\n",
            "Sincerely,\n",
            "Allison Hill\n",
            "```\n"
          ]
        }
      ],
      "source": [
        "# Step 14: Display the generated cover letter\n",
        "print(\"\\nGenerated Cover Letter:\\n\")\n",
        "print(response)"
      ]
    },
    {
      "cell_type": "code",
      "execution_count": 15,
      "metadata": {
        "colab": {
          "base_uri": "https://localhost:8080/",
          "height": 611
        },
        "id": "wUahh_ebGE_p",
        "outputId": "30c81bfb-cfbe-45ea-8b36-5d86a6f2aba9"
      },
      "outputs": [
        {
          "output_type": "stream",
          "name": "stdout",
          "text": [
            "Colab notebook detected. To show errors in colab notebook, set debug=True in launch()\n",
            "* Running on public URL: https://24c9bbf6d5ed533ed4.gradio.live\n",
            "\n",
            "This share link expires in 1 week. For free permanent hosting and GPU upgrades, run `gradio deploy` from the terminal in the working directory to deploy to Hugging Face Spaces (https://huggingface.co/spaces)\n"
          ]
        },
        {
          "output_type": "display_data",
          "data": {
            "text/plain": [
              "<IPython.core.display.HTML object>"
            ],
            "text/html": [
              "<div><iframe src=\"https://24c9bbf6d5ed533ed4.gradio.live\" width=\"100%\" height=\"500\" allow=\"autoplay; camera; microphone; clipboard-read; clipboard-write;\" frameborder=\"0\" allowfullscreen></iframe></div>"
            ]
          },
          "metadata": {}
        },
        {
          "output_type": "execute_result",
          "data": {
            "text/plain": []
          },
          "metadata": {},
          "execution_count": 15
        }
      ],
      "source": [
        "import gradio as gr\n",
        "from fpdf import FPDF\n",
        "import tempfile\n",
        "\n",
        "# Dummy rag_chain.invoke implementation (replace with your actual logic)\n",
        "# from your_existing_code import rag_chain\n",
        "\n",
        "def generate_cover_letter_gradio(student_name_input, pdf_file_input, company_name_input, company_address_input, position_input, current_date_input):\n",
        "    if pdf_file_input is None:\n",
        "        return \"Please upload a student profile PDF.\", None\n",
        "\n",
        "    # Load PDF text (this is mock - you can connect RAG here)\n",
        "    # from PyPDF2 import PdfReader\n",
        "    # reader = PdfReader(pdf_file_input.name)\n",
        "    # text = \"\\n\".join([page.extract_text() for page in reader.pages])\n",
        "\n",
        "    # Use the actual RAG chain to generate the cover letter\n",
        "    input_data = {\n",
        "        \"student_name\": student_name_input,\n",
        "        \"company_name\": company_name_input,\n",
        "        \"company_address\": company_address_input,\n",
        "        \"position\": position_input,\n",
        "        \"current_date\": current_date_input if current_date_input else datetime.now().strftime(\"%B %d, %Y\")\n",
        "    }\n",
        "    response = rag_chain.invoke(input_data)\n",
        "\n",
        "\n",
        "    # Convert response to PDF\n",
        "    pdf = FPDF()\n",
        "    pdf.add_page()\n",
        "    pdf.set_auto_page_break(auto=True, margin=15)\n",
        "    pdf.set_font(\"Arial\", size=12)\n",
        "    for line in response.split(\"\\n\"):\n",
        "        pdf.multi_cell(0, 10, line)\n",
        "\n",
        "    # Save to temp\n",
        "    clean_name = student_name_input.replace(\" \", \"_\").replace(\"/\", \"_\")\n",
        "    file_path = os.path.join(tempfile.gettempdir(), f\"Cover_Letter_{clean_name}.pdf\")\n",
        "    pdf.output(file_path)\n",
        "\n",
        "    return response, file_path\n",
        "\n",
        "\n",
        "# ------------------ CSS Styling ------------------\n",
        "custom_css = \"\"\"\n",
        ".gradio-container {\n",
        "    max-width: 900px !important;\n",
        "    margin: 0 auto !important;\n",
        "    background: linear-gradient(135deg, #667eea 0%, #764ba2 100%) !important;\n",
        "    min-height: 100vh !important;\n",
        "    padding: 20px !important;\n",
        "}\n",
        ".custom-title {\n",
        "    text-align: center !important;\n",
        "    color: #800080 !important;\n",
        "    font-size: 2.5rem !important;\n",
        "    font-weight: 700 !important;\n",
        "    margin-bottom: 10px !important;\n",
        "}\n",
        ".gradio-container p {\n",
        "    color: rgba(255,255,255,0.9) !important;\n",
        "    text-align: center !important;\n",
        "    font-size: 1.1rem !important;\n",
        "    margin-bottom: 30px !important;\n",
        "    font-weight: 300 !important;\n",
        "}\n",
        ".input-container {\n",
        "    background: #f8f9ff !important;\n",
        "    border-radius: 15px !important;\n",
        "    padding: 25px !important;\n",
        "    margin-bottom: 20px !important;\n",
        "    border: 2px solid #e1e5f2 !important;\n",
        "}\n",
        ".gr-textbox {\n",
        "    border-radius: 25px !important;\n",
        "    border: 2px solid #d1d9ff !important;\n",
        "    padding: 15px 20px !important;\n",
        "    font-size: 16px !important;\n",
        "    background: white !important;\n",
        "}\n",
        ".gr-textbox:focus {\n",
        "    border-color: #667eea !important;\n",
        "    box-shadow: 0 0 0 3px rgba(102, 126, 234, 0.1) !important;\n",
        "    outline: none !important;\n",
        "}\n",
        ".gr-file {\n",
        "    border-radius: 15px !important;\n",
        "    border: 2px dashed #d1d9ff !important;\n",
        "    padding: 20px !important;\n",
        "    background: white !important;\n",
        "}\n",
        ".output-container {\n",
        "    background: white !important;\n",
        "    border-radius: 15px !important;\n",
        "    padding: 20px !important;\n",
        "    margin-top: 20px !important;\n",
        "    box-shadow: 0 4px 12px rgba(0,0,0,0.1) !important;\n",
        "    position: relative !important;\n",
        "}\n",
        ".output-container::before {\n",
        "    content: '🤖' !important;\n",
        "    position: absolute !important;\n",
        "    top: -10px !important;\n",
        "    left: 20px !important;\n",
        "    background: #667eea !important;\n",
        "    color: white !important;\n",
        "    padding: 8px 12px !important;\n",
        "    border-radius: 20px !important;\n",
        "    font-size: 16px !important;\n",
        "}\n",
        "::-webkit-scrollbar {\n",
        "    width: 8px !important;\n",
        "}\n",
        "::-webkit-scrollbar-track {\n",
        "    background: #f1f1f1 !important;\n",
        "    border-radius: 10px !important;\n",
        "}\n",
        "::-webkit-scrollbar-thumb {\n",
        "    background: #667eea !important;\n",
        "    border-radius: 10px !important;\n",
        "}\n",
        "::-webkit-scrollbar-thumb:hover {\n",
        "    background: #764ba2 !important;\n",
        "}\n",
        "\"\"\"\n",
        "\n",
        "# ------------------ Gradio UI ------------------\n",
        "with gr.Blocks(css=custom_css, theme=gr.themes.Soft(\n",
        "    primary_hue=\"blue\",\n",
        "    secondary_hue=\"purple\",\n",
        "    neutral_hue=\"slate\",\n",
        "    font=gr.themes.GoogleFont(\"Inter\")\n",
        ")) as interface:\n",
        "\n",
        "    # Title and subtitle\n",
        "    gr.HTML(\"\"\"\n",
        "    <div class='custom-title'>🤖 AI Cover Letter Generator</div>\n",
        "    <p>💬 Upload your student profile and enter a name to generate a professional PDF cover letter.</p>\n",
        "    \"\"\")\n",
        "\n",
        "    with gr.Row():\n",
        "        with gr.Column():\n",
        "            student_name_input = gr.Textbox(\n",
        "                label=\"👤 Student Name\",\n",
        "                placeholder=\"Enter the student name (e.g., Emily Rios)\",\n",
        "                elem_classes=[\"input-container\"]\n",
        "            )\n",
        "            pdf_upload_input = gr.File(\n",
        "                label=\"📄 Upload Student PDF\",\n",
        "                file_types=[\".pdf\"],\n",
        "                elem_classes=[\"input-container\"]\n",
        "            )\n",
        "            company_name_input = gr.Textbox(\n",
        "                label=\"🏢 Company Name\",\n",
        "                placeholder=\"Enter the company name (e.g., Google)\",\n",
        "                elem_classes=[\"input-container\"]\n",
        "            )\n",
        "            company_address_input = gr.Textbox(\n",
        "                label=\"🏠 Company Address\",\n",
        "                placeholder=\"Enter the company address\",\n",
        "                elem_classes=[\"input-container\"])\n",
        "\n",
        "\n",
        "            position_input = gr.Textbox( # Corrected variable name\n",
        "                label=\"💼 Position Title\",\n",
        "                placeholder=\"Enter the position (e.g., Data Analyst Intern)\",\n",
        "                elem_classes=[\"input-container\"]\n",
        "            )\n",
        "            current_date_input = gr.Textbox(\n",
        "                label=\"📅 Date (optional)\",\n",
        "                placeholder=\"Leave blank to use today’s date\",\n",
        "                elem_classes=[\"input-container\"])\n",
        "            generate_btn = gr.Button(\"Generate Cover Letter\")\n",
        "\n",
        "        with gr.Column():\n",
        "            output_box = gr.Textbox(\n",
        "                lines=20,\n",
        "                label=\"🤖 AI Generated Cover Letter\",\n",
        "                elem_classes=[\"output-container\"]\n",
        "            )\n",
        "            download_button = gr.File(label=\"📥 Download Cover Letter (PDF)\")\n",
        "\n",
        "    # Connect button to function\n",
        "    generate_btn.click(\n",
        "        fn=generate_cover_letter_gradio,\n",
        "        inputs=[student_name_input, pdf_upload_input, company_name_input, company_address_input, position_input, current_date_input], # Use correct variable names\n",
        "        outputs=[output_box, download_button]\n",
        "    )\n",
        "\n",
        "# Launch the app\n",
        "interface.launch(share=True)"
      ]
    }
  ],
  "metadata": {
    "colab": {
      "provenance": [],
      "gpuType": "T4",
      "authorship_tag": "ABX9TyOJ8xkAR0sD0zgEHwW5N4Qa",
      "include_colab_link": true
    },
    "kernelspec": {
      "display_name": "Python 3",
      "name": "python3"
    },
    "language_info": {
      "name": "python"
    },
    "accelerator": "GPU"
  },
  "nbformat": 4,
  "nbformat_minor": 0
}